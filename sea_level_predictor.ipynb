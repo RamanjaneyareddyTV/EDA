{
  "nbformat": 4,
  "nbformat_minor": 0,
  "metadata": {
    "colab": {
      "name": "sea-level-predictor.ipynb",
      "provenance": []
    },
    "kernelspec": {
      "name": "python3",
      "display_name": "Python 3"
    },
    "language_info": {
      "name": "python"
    }
  },
  "cells": [
    {
      "cell_type": "markdown",
      "metadata": {
        "id": "rhqAb_O0GIZw"
      },
      "source": [
        "### Introduction.\n",
        "The aim of this project is to analyze a data set of the global average sea level change since 1880. We are going to predict the sea level change through year 2050."
      ]
    },
    {
      "cell_type": "markdown",
      "metadata": {
        "id": "NXGGa9ciHMOh"
      },
      "source": [
        "Import the libraries."
      ]
    },
    {
      "cell_type": "code",
      "metadata": {
        "id": "KkxT70zuVG_0"
      },
      "source": [
        "import pandas as pd\n",
        "import scipy\n",
        "import matplotlib.pyplot as plt\n",
        "import numpy as np\n",
        "from matplotlib import style\n",
        "from scipy.stats import linregress\n",
        "style.use('ggplot')"
      ],
      "execution_count": 1,
      "outputs": []
    },
    {
      "cell_type": "code",
      "metadata": {
        "colab": {
          "base_uri": "https://localhost:8080/",
          "height": 204
        },
        "id": "XsPNJdT1WjCC",
        "outputId": "dbb8570c-bc3e-4c7c-b198-ac44d6976a75"
      },
      "source": [
        "# read the epa-sea-level.csv dataset\n",
        "sea_data = pd.read_csv('epa-sea-level.csv')\n",
        "sea_data.head(5)"
      ],
      "execution_count": 2,
      "outputs": [
        {
          "output_type": "execute_result",
          "data": {
            "text/html": [
              "<div>\n",
              "<style scoped>\n",
              "    .dataframe tbody tr th:only-of-type {\n",
              "        vertical-align: middle;\n",
              "    }\n",
              "\n",
              "    .dataframe tbody tr th {\n",
              "        vertical-align: top;\n",
              "    }\n",
              "\n",
              "    .dataframe thead th {\n",
              "        text-align: right;\n",
              "    }\n",
              "</style>\n",
              "<table border=\"1\" class=\"dataframe\">\n",
              "  <thead>\n",
              "    <tr style=\"text-align: right;\">\n",
              "      <th></th>\n",
              "      <th>Year</th>\n",
              "      <th>CSIRO Adjusted Sea Level</th>\n",
              "      <th>Lower Error Bound</th>\n",
              "      <th>Upper Error Bound</th>\n",
              "      <th>NOAA Adjusted Sea Level</th>\n",
              "    </tr>\n",
              "  </thead>\n",
              "  <tbody>\n",
              "    <tr>\n",
              "      <th>0</th>\n",
              "      <td>1880</td>\n",
              "      <td>0.000000</td>\n",
              "      <td>-0.952756</td>\n",
              "      <td>0.952756</td>\n",
              "      <td>NaN</td>\n",
              "    </tr>\n",
              "    <tr>\n",
              "      <th>1</th>\n",
              "      <td>1881</td>\n",
              "      <td>0.220472</td>\n",
              "      <td>-0.732283</td>\n",
              "      <td>1.173228</td>\n",
              "      <td>NaN</td>\n",
              "    </tr>\n",
              "    <tr>\n",
              "      <th>2</th>\n",
              "      <td>1882</td>\n",
              "      <td>-0.440945</td>\n",
              "      <td>-1.346457</td>\n",
              "      <td>0.464567</td>\n",
              "      <td>NaN</td>\n",
              "    </tr>\n",
              "    <tr>\n",
              "      <th>3</th>\n",
              "      <td>1883</td>\n",
              "      <td>-0.232283</td>\n",
              "      <td>-1.129921</td>\n",
              "      <td>0.665354</td>\n",
              "      <td>NaN</td>\n",
              "    </tr>\n",
              "    <tr>\n",
              "      <th>4</th>\n",
              "      <td>1884</td>\n",
              "      <td>0.590551</td>\n",
              "      <td>-0.283465</td>\n",
              "      <td>1.464567</td>\n",
              "      <td>NaN</td>\n",
              "    </tr>\n",
              "  </tbody>\n",
              "</table>\n",
              "</div>"
            ],
            "text/plain": [
              "   Year  CSIRO Adjusted Sea Level  ...  Upper Error Bound  NOAA Adjusted Sea Level\n",
              "0  1880                  0.000000  ...           0.952756                      NaN\n",
              "1  1881                  0.220472  ...           1.173228                      NaN\n",
              "2  1882                 -0.440945  ...           0.464567                      NaN\n",
              "3  1883                 -0.232283  ...           0.665354                      NaN\n",
              "4  1884                  0.590551  ...           1.464567                      NaN\n",
              "\n",
              "[5 rows x 5 columns]"
            ]
          },
          "metadata": {},
          "execution_count": 2
        }
      ]
    },
    {
      "cell_type": "code",
      "metadata": {
        "colab": {
          "base_uri": "https://localhost:8080/"
        },
        "id": "Kc3YCqW9bZEE",
        "outputId": "c6de9fca-e03d-43d3-fdb9-0b203a386f03"
      },
      "source": [
        "sea_data['Year'][0] #starting year."
      ],
      "execution_count": 3,
      "outputs": [
        {
          "output_type": "execute_result",
          "data": {
            "text/plain": [
              "1880"
            ]
          },
          "metadata": {},
          "execution_count": 3
        }
      ]
    },
    {
      "cell_type": "code",
      "metadata": {
        "colab": {
          "base_uri": "https://localhost:8080/",
          "height": 204
        },
        "id": "63sezziKIOZd",
        "outputId": "36bc3650-4832-47eb-d180-5418e82caf86"
      },
      "source": [
        "sea_data.tail()"
      ],
      "execution_count": 4,
      "outputs": [
        {
          "output_type": "execute_result",
          "data": {
            "text/html": [
              "<div>\n",
              "<style scoped>\n",
              "    .dataframe tbody tr th:only-of-type {\n",
              "        vertical-align: middle;\n",
              "    }\n",
              "\n",
              "    .dataframe tbody tr th {\n",
              "        vertical-align: top;\n",
              "    }\n",
              "\n",
              "    .dataframe thead th {\n",
              "        text-align: right;\n",
              "    }\n",
              "</style>\n",
              "<table border=\"1\" class=\"dataframe\">\n",
              "  <thead>\n",
              "    <tr style=\"text-align: right;\">\n",
              "      <th></th>\n",
              "      <th>Year</th>\n",
              "      <th>CSIRO Adjusted Sea Level</th>\n",
              "      <th>Lower Error Bound</th>\n",
              "      <th>Upper Error Bound</th>\n",
              "      <th>NOAA Adjusted Sea Level</th>\n",
              "    </tr>\n",
              "  </thead>\n",
              "  <tbody>\n",
              "    <tr>\n",
              "      <th>129</th>\n",
              "      <td>2009</td>\n",
              "      <td>8.586614</td>\n",
              "      <td>8.311024</td>\n",
              "      <td>8.862205</td>\n",
              "      <td>8.046354</td>\n",
              "    </tr>\n",
              "    <tr>\n",
              "      <th>130</th>\n",
              "      <td>2010</td>\n",
              "      <td>8.901575</td>\n",
              "      <td>8.618110</td>\n",
              "      <td>9.185039</td>\n",
              "      <td>8.122973</td>\n",
              "    </tr>\n",
              "    <tr>\n",
              "      <th>131</th>\n",
              "      <td>2011</td>\n",
              "      <td>8.964567</td>\n",
              "      <td>8.661417</td>\n",
              "      <td>9.267717</td>\n",
              "      <td>8.053065</td>\n",
              "    </tr>\n",
              "    <tr>\n",
              "      <th>132</th>\n",
              "      <td>2012</td>\n",
              "      <td>9.326772</td>\n",
              "      <td>8.992126</td>\n",
              "      <td>9.661417</td>\n",
              "      <td>8.457058</td>\n",
              "    </tr>\n",
              "    <tr>\n",
              "      <th>133</th>\n",
              "      <td>2013</td>\n",
              "      <td>8.980315</td>\n",
              "      <td>8.622047</td>\n",
              "      <td>9.338583</td>\n",
              "      <td>8.546648</td>\n",
              "    </tr>\n",
              "  </tbody>\n",
              "</table>\n",
              "</div>"
            ],
            "text/plain": [
              "     Year  CSIRO Adjusted Sea Level  ...  Upper Error Bound  NOAA Adjusted Sea Level\n",
              "129  2009                  8.586614  ...           8.862205                 8.046354\n",
              "130  2010                  8.901575  ...           9.185039                 8.122973\n",
              "131  2011                  8.964567  ...           9.267717                 8.053065\n",
              "132  2012                  9.326772  ...           9.661417                 8.457058\n",
              "133  2013                  8.980315  ...           9.338583                 8.546648\n",
              "\n",
              "[5 rows x 5 columns]"
            ]
          },
          "metadata": {},
          "execution_count": 4
        }
      ]
    },
    {
      "cell_type": "markdown",
      "metadata": {
        "id": "EusquzNv9e3S"
      },
      "source": [
        "epa-sea-level dataset contains global average sea level change since 1880 to 2013."
      ]
    },
    {
      "cell_type": "markdown",
      "metadata": {
        "id": "UsLNE-mIWzDs"
      },
      "source": [
        "### Describing the dataset.\n",
        "epa-sea-level dataset contains cumilative changes in the sea level for the world's ocean since 1880. It is based on a combination of long-term tide guage measurments and recent satellite measurments.\n",
        "\n",
        "Satellite data are based on measured sea level. The long-term tide guage data include a small correcton factor due to the size and shape changes of the oceans slowly overtime.\n",
        "\n",
        "all the data in the dataset are recorded as inches.\n",
        "\n",
        "**lower bound** is the smallest value that would round up to the estimated value.  \n",
        "**upper bound** is the smallest value that would round up to the next estimated value. [bbc.co.uk](https://www.bbc.co.uk/bitesize/guides/zscq6yc/revision/6)  \n",
        "\n",
        "In the `CSIRO Adjusted Sea Level` column, contains the cumilative changes in the sea level measured by CSIRO (Commonwealth Scientific and Industrial Research Organization) and `NOAA Adjusted Sea Level` column, contains the National oceanic and Atmospheric Administration measured sea level changes.\n",
        "\n",
        "Data source:  \n",
        "https://datahub.io/core/sea-level-rise"
      ]
    },
    {
      "cell_type": "markdown",
      "metadata": {
        "id": "fA3qMiNXgj_A"
      },
      "source": [
        "### Visualize the data.\n",
        "The below scatterplot is created with the `Year` as the x-axis and `CSIRO Adjusted Sea Level` as the y-axis."
      ]
    },
    {
      "cell_type": "code",
      "metadata": {
        "id": "eWEjID7lgbG4"
      },
      "source": [
        "# x-axis\n",
        "x = sea_data['Year']\n",
        "\n",
        "# y-axis\n",
        "y = sea_data['CSIRO Adjusted Sea Level']"
      ],
      "execution_count": 5,
      "outputs": []
    },
    {
      "cell_type": "markdown",
      "metadata": {
        "id": "XaZpOk0OC_qG"
      },
      "source": [
        "Scatter plot can be visualize as follows."
      ]
    },
    {
      "cell_type": "code",
      "metadata": {
        "colab": {
          "base_uri": "https://localhost:8080/",
          "height": 643
        },
        "id": "KLwUXS4EhlJY",
        "outputId": "156c321c-048f-4671-bec0-25cca365275f"
      },
      "source": [
        "# setting the figure size\n",
        "plt.figure(figsize=(15,10))\n",
        "\n",
        "# set the plot title\n",
        "plt.title(\"Rise in Sea Level\")\n",
        "\n",
        "# set the x-axis label\n",
        "plt.xlabel(\"Year\")\n",
        "\n",
        "# set the y-axis label\n",
        "plt.ylabel(\"Sea Level (inches)\")\n",
        "\n",
        "# plot the data\n",
        "plt.scatter(x, y)"
      ],
      "execution_count": 6,
      "outputs": [
        {
          "output_type": "execute_result",
          "data": {
            "text/plain": [
              "<matplotlib.collections.PathCollection at 0x7f1d4de82b10>"
            ]
          },
          "metadata": {},
          "execution_count": 6
        },
        {
          "output_type": "display_data",
          "data": {
            "image/png": "[encoded data removed]",
            "text/plain": [
              "<Figure size 1080x720 with 1 Axes>"
            ]
          },
          "metadata": {
            "needs_background": "light"
          }
        }
      ]
    },
    {
      "cell_type": "markdown",
      "metadata": {
        "id": "d5sQs920ClbG"
      },
      "source": [
        "*figure 01*"
      ]
    },
    {
      "cell_type": "code",
      "metadata": {
        "colab": {
          "base_uri": "https://localhost:8080/"
        },
        "id": "4Qlxjznmi5R8",
        "outputId": "9404d404-b4e3-45e4-e107-b205295d8890"
      },
      "source": [
        "# get the slope and y-intercept from the x and y axis data\n",
        "# the x-axis data that consider to calculate this slope and intercept is 1880-2013. \n",
        "data = scipy.stats.linregress(x,y)\n",
        "slope = data.slope\n",
        "intercept = data.intercept\n",
        "\n",
        "print(\"slope:\",slope,\" intercept:\", intercept)"
      ],
      "execution_count": 7,
      "outputs": [
        {
          "output_type": "stream",
          "name": "stdout",
          "text": [
            "slope: 0.0630445840121348  intercept: -119.06594196773978\n"
          ]
        }
      ]
    },
    {
      "cell_type": "code",
      "metadata": {
        "id": "YwO87GJjBM47"
      },
      "source": [
        "#x-axis data points between regression line.\n",
        "x_end = np.arange(sea_data['Year'][0],2051)\n",
        "\n",
        "#Creating the regression line.\n",
        "regression_line = (slope*x_end)+intercept"
      ],
      "execution_count": 8,
      "outputs": []
    },
    {
      "cell_type": "code",
      "metadata": {
        "colab": {
          "base_uri": "https://localhost:8080/"
        },
        "id": "xB7l-Gy0_t1A",
        "outputId": "94dd35cd-1f3f-4f81-e4bb-1e199464179b"
      },
      "source": [
        "# 2050 average sea level.\n",
        "y_predict = (slope*2050) + intercept\n",
        "print(\"Predicted sea level for 2050: \", y_predict)"
      ],
      "execution_count": 9,
      "outputs": [
        {
          "output_type": "stream",
          "name": "stdout",
          "text": [
            "Predicted sea level for 2050:  10.175455257136548\n"
          ]
        }
      ]
    },
    {
      "cell_type": "code",
      "metadata": {
        "colab": {
          "base_uri": "https://localhost:8080/",
          "height": 643
        },
        "id": "Hpjpi6l6CRSw",
        "outputId": "66110e70-d7b6-4f91-b3b9-6ce236221ff4"
      },
      "source": [
        "# setting the figure size\n",
        "plt.figure(figsize=(15,10))\n",
        "\n",
        "# set the plot title\n",
        "plt.title(\"Rise in Sea Level\")\n",
        "\n",
        "# set the x-axis label\n",
        "plt.xlabel(\"Year\")\n",
        "\n",
        "# set the y-axis label\n",
        "plt.ylabel(\"Sea Level (inches)\")\n",
        "\n",
        "# plot the data\n",
        "plt.scatter(x, y)\n",
        "\n",
        "# regression line.\n",
        "plt.plot(x_end, regression_line)\n",
        "\n",
        "# 2050 predicted sea level.\n",
        "plt.scatter(2050, y_predict)\n",
        "\n",
        "plt.annotate(\"(2050, 10.175455257136548)\",(2050, y_predict))"
      ],
      "execution_count": 10,
      "outputs": [
        {
          "output_type": "execute_result",
          "data": {
            "text/plain": [
              "Text(2050, 10.175455257136548, '(2050, 10.175455257136548)')"
            ]
          },
          "metadata": {},
          "execution_count": 10
        },
        {
          "output_type": "display_data",
          "data": {
            "image/png": "[encoded data removed]",
            "text/plain": [
              "<Figure size 1080x720 with 1 Axes>"
            ]
          },
          "metadata": {
            "needs_background": "light"
          }
        }
      ]
    },
    {
      "cell_type": "markdown",
      "metadata": {
        "id": "MiHCTv9ICs0Y"
      },
      "source": [
        "*figure 02*"
      ]
    },
    {
      "cell_type": "markdown",
      "metadata": {
        "id": "rapE0i7JGT-p"
      },
      "source": [
        "Predict the Sea Level (inches) from the best fit line and plot the value in the above scatter plot."
      ]
    },
    {
      "cell_type": "markdown",
      "metadata": {
        "id": "6y0smrKhB6_O"
      },
      "source": [
        "The below scatter plot created from the 2000-2013 CSIRO Adjusted Sea Level data. We consider this data range specially due to the above scatter plot.(*figure 01*)\n",
        "\n",
        "Acoording to *figure 01* scatter plot, Sea Level got much higher than 1880 - 2000 after the year 2000."
      ]
    },
    {
      "cell_type": "code",
      "metadata": {
        "id": "5tKCRpkhEZ-a",
        "colab": {
          "base_uri": "https://localhost:8080/",
          "height": 204
        },
        "outputId": "e0ac3e30-9522-40b7-9748-3c03616b88be"
      },
      "source": [
        "# filter data\n",
        "sea_data_new = sea_data[(sea_data['Year']>=2000)]\n",
        "sea_data_new.head(5)"
      ],
      "execution_count": 11,
      "outputs": [
        {
          "output_type": "execute_result",
          "data": {
            "text/html": [
              "<div>\n",
              "<style scoped>\n",
              "    .dataframe tbody tr th:only-of-type {\n",
              "        vertical-align: middle;\n",
              "    }\n",
              "\n",
              "    .dataframe tbody tr th {\n",
              "        vertical-align: top;\n",
              "    }\n",
              "\n",
              "    .dataframe thead th {\n",
              "        text-align: right;\n",
              "    }\n",
              "</style>\n",
              "<table border=\"1\" class=\"dataframe\">\n",
              "  <thead>\n",
              "    <tr style=\"text-align: right;\">\n",
              "      <th></th>\n",
              "      <th>Year</th>\n",
              "      <th>CSIRO Adjusted Sea Level</th>\n",
              "      <th>Lower Error Bound</th>\n",
              "      <th>Upper Error Bound</th>\n",
              "      <th>NOAA Adjusted Sea Level</th>\n",
              "    </tr>\n",
              "  </thead>\n",
              "  <tbody>\n",
              "    <tr>\n",
              "      <th>120</th>\n",
              "      <td>2000</td>\n",
              "      <td>7.062992</td>\n",
              "      <td>6.791339</td>\n",
              "      <td>7.334646</td>\n",
              "      <td>6.920582</td>\n",
              "    </tr>\n",
              "    <tr>\n",
              "      <th>121</th>\n",
              "      <td>2001</td>\n",
              "      <td>7.287402</td>\n",
              "      <td>7.019685</td>\n",
              "      <td>7.555118</td>\n",
              "      <td>7.087460</td>\n",
              "    </tr>\n",
              "    <tr>\n",
              "      <th>122</th>\n",
              "      <td>2002</td>\n",
              "      <td>7.381890</td>\n",
              "      <td>7.110236</td>\n",
              "      <td>7.653543</td>\n",
              "      <td>7.319698</td>\n",
              "    </tr>\n",
              "    <tr>\n",
              "      <th>123</th>\n",
              "      <td>2003</td>\n",
              "      <td>7.759843</td>\n",
              "      <td>7.484252</td>\n",
              "      <td>8.035433</td>\n",
              "      <td>7.488353</td>\n",
              "    </tr>\n",
              "    <tr>\n",
              "      <th>124</th>\n",
              "      <td>2004</td>\n",
              "      <td>7.740157</td>\n",
              "      <td>7.464567</td>\n",
              "      <td>8.015748</td>\n",
              "      <td>7.507933</td>\n",
              "    </tr>\n",
              "  </tbody>\n",
              "</table>\n",
              "</div>"
            ],
            "text/plain": [
              "     Year  CSIRO Adjusted Sea Level  ...  Upper Error Bound  NOAA Adjusted Sea Level\n",
              "120  2000                  7.062992  ...           7.334646                 6.920582\n",
              "121  2001                  7.287402  ...           7.555118                 7.087460\n",
              "122  2002                  7.381890  ...           7.653543                 7.319698\n",
              "123  2003                  7.759843  ...           8.035433                 7.488353\n",
              "124  2004                  7.740157  ...           8.015748                 7.507933\n",
              "\n",
              "[5 rows x 5 columns]"
            ]
          },
          "metadata": {},
          "execution_count": 11
        }
      ]
    },
    {
      "cell_type": "code",
      "metadata": {
        "id": "FLnjQxWdiL1j"
      },
      "source": [
        "# new x axis data\n",
        "x1 = sea_data_new['Year']\n",
        "\n",
        "# new y axis data\n",
        "y1 = sea_data_new['CSIRO Adjusted Sea Level']"
      ],
      "execution_count": 12,
      "outputs": []
    },
    {
      "cell_type": "code",
      "metadata": {
        "colab": {
          "base_uri": "https://localhost:8080/"
        },
        "id": "xuA5govRimMC",
        "outputId": "535a37df-a745-47fe-8297-26a4eddbebe2"
      },
      "source": [
        "# new slope and intercept from the above data.\n",
        "data_new = scipy.stats.linregress(x1, y1)\n",
        "slope_new = data_new.slope\n",
        "intercept_new = data_new.intercept\n",
        "\n",
        "print(\"New slope: \", slope_new, \"New intercept: \", intercept_new)"
      ],
      "execution_count": 13,
      "outputs": [
        {
          "output_type": "stream",
          "name": "stdout",
          "text": [
            "New slope:  0.16642727333186808 New intercept:  -325.79346680596467\n"
          ]
        }
      ]
    },
    {
      "cell_type": "code",
      "metadata": {
        "id": "lrnlar2zjZJZ"
      },
      "source": [
        "#x-axis data points between regression line.\n",
        "x_end_new = np.arange(2000,2051)\n",
        "\n",
        "#Creating the regression line.\n",
        "regression_line_new = (slope_new*x_end_new)+intercept_new"
      ],
      "execution_count": 14,
      "outputs": []
    },
    {
      "cell_type": "code",
      "metadata": {
        "colab": {
          "base_uri": "https://localhost:8080/"
        },
        "id": "Eum3ml5ijtwk",
        "outputId": "739acb69-fff4-4abd-ee2b-85ffecc2adba"
      },
      "source": [
        "# 2050 average sea level (2000-2013 data based)\n",
        "y_predict_new = (slope_new*2050) + intercept_new\n",
        "print(\"Predicted sea level for 2050: \", y_predict_new)"
      ],
      "execution_count": 15,
      "outputs": [
        {
          "output_type": "stream",
          "name": "stdout",
          "text": [
            "Predicted sea level for 2050:  15.382443524364874\n"
          ]
        }
      ]
    },
    {
      "cell_type": "code",
      "metadata": {
        "colab": {
          "base_uri": "https://localhost:8080/",
          "height": 643
        },
        "id": "812jG0Ouj5i5",
        "outputId": "3f173749-ffb3-4414-f759-d88a4d2d4a99"
      },
      "source": [
        "# setting the figure size\n",
        "plt.figure(figsize=(15,10))\n",
        "\n",
        "# set the plot title\n",
        "plt.title(\"Rise in Sea Level\")\n",
        "\n",
        "# set the x-axis label\n",
        "plt.xlabel(\"Year\")\n",
        "\n",
        "# set the y-axis label\n",
        "plt.ylabel(\"Sea Level (inches)\")\n",
        "\n",
        "# plot the data\n",
        "plt.scatter(x, y)\n",
        "\n",
        "# regression line.\n",
        "plt.plot(x_end, regression_line)\n",
        "\n",
        "# regression line 2.\n",
        "plt.plot(x_end_new, regression_line_new)\n",
        "\n",
        "# 2050 predicted sea level.\n",
        "plt.scatter(2050, y_predict)\n",
        "\n",
        "# 2050 predicted sea level (2000-2013 based data.)\n",
        "plt.scatter(2050, y_predict_new)\n",
        "\n",
        "plt.annotate(\"(2050, 10.18)\",(2050, y_predict))\n",
        "plt.annotate(\"(2050, 15.38)\",(2050, y_predict_new))"
      ],
      "execution_count": 16,
      "outputs": [
        {
          "output_type": "execute_result",
          "data": {
            "text/plain": [
              "Text(2050, 15.382443524364874, '(2050, 15.38)')"
            ]
          },
          "metadata": {},
          "execution_count": 16
        },
        {
          "output_type": "display_data",
          "data": {
            "image/png": "[encoded data removed]",
            "text/plain": [
              "<Figure size 1080x720 with 1 Axes>"
            ]
          },
          "metadata": {
            "needs_background": "light"
          }
        }
      ]
    }
  ]
}