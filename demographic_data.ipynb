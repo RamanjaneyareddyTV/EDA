{
  "nbformat": 4,
  "nbformat_minor": 0,
  "metadata": {
    "colab": {
      "name": "demographic data.ipynb",
      "provenance": []
    },
    "kernelspec": {
      "name": "python3",
      "display_name": "Python 3"
    },
    "language_info": {
      "name": "python"
    }
  },
  "cells": [
    {
      "cell_type": "markdown",
      "metadata": {
        "id": "8U9JK_IAYAp_"
      },
      "source": [
        "### Introduction\n",
        "The given dataset contains the demographic data that that was extracted from the [1994 Census database](https://www.census.gov/en.html).\n",
        "\n",
        "This dataset contains the demographic data acording to the the following columns:\n",
        "**age, workclass, fnlwgt, education, education-num, martial-status, occupation, relationship, race,sex, capital-gain, capital-loss, hours-per-week, native-country, salary.**\n",
        "\n",
        "Our aim is to answer the following questions and do an exploratory data analysis.  \n",
        "1. How many people of each race are represented in this dataset? This should be a Pandas series with race names as the index labels. (`race` column)\n",
        "2. What is the average age of men?\n",
        "3. What is the percentage of people who have a Bachelor's degree?\n",
        "4. What percentage of people with advanced education (`Bachelors`, `Masters`, or `Doctorate`) make more than 50K?\n",
        "5. What percentage of people without advanced education make more than 50K?\n",
        "6. What is the minimum number of hours a person works per week?\n",
        "7. What percentage of the people who work the minimum number of hours per week have a salary of more than 50K?\n",
        "8. What country has the highest percentage of people that earn >50K and what is that percentage?\n",
        "9. Identify the most popular occupation for those who earn >50K in India.\n",
        "\n",
        "### Dataset Source\n",
        "\n",
        "Dua, D. and Graff, C. (2019). UCI Machine Learning Repository [http://archive.ics.uci.edu/ml]. Irvine, CA: University of California, School of Information and Computer Science."
      ]
    },
    {
      "cell_type": "markdown",
      "metadata": {
        "id": "A28NSMFgcako"
      },
      "source": [
        "The following code needs to load the necessasary packages to the Jupyter Notebook."
      ]
    },
    {
      "cell_type": "code",
      "metadata": {
        "id": "zm2HEwmkcjDG",
        "colab": {
          "base_uri": "https://localhost:8080/"
        },
        "outputId": "bd279cf7-21ea-4170-bb66-65d6f4289f3e"
      },
      "source": [
        "import pandas as pd\n",
        "pd.plotting.register_matplotlib_converters()\n",
        "import matplotlib.pyplot as plt\n",
        "%matplotlib inline\n",
        "import seaborn as sns\n",
        "print(\"Setup Complete\")"
      ],
      "execution_count": 2,
      "outputs": [
        {
          "output_type": "stream",
          "name": "stdout",
          "text": [
            "Setup Complete\n"
          ]
        }
      ]
    },
    {
      "cell_type": "markdown",
      "metadata": {
        "id": "iPZnbrE3dmWR"
      },
      "source": [
        "Let's read the data set and get a sample of data to see the shape of the data."
      ]
    },
    {
      "cell_type": "code",
      "metadata": {
        "colab": {
          "base_uri": "https://localhost:8080/",
          "height": 323
        },
        "id": "4yBWpuWafhdz",
        "outputId": "7796d8c5-ac9d-417d-8ca9-c2f3f0d9e1da"
      },
      "source": [
        "adult_data = pd.read_csv(\"adult.data.csv\")\n",
        "adult_data.head(5)"
      ],
      "execution_count": 3,
      "outputs": [
        {
          "output_type": "execute_result",
          "data": {
            "text/html": [
              "<div>\n",
              "<style scoped>\n",
              "    .dataframe tbody tr th:only-of-type {\n",
              "        vertical-align: middle;\n",
              "    }\n",
              "\n",
              "    .dataframe tbody tr th {\n",
              "        vertical-align: top;\n",
              "    }\n",
              "\n",
              "    .dataframe thead th {\n",
              "        text-align: right;\n",
              "    }\n",
              "</style>\n",
              "<table border=\"1\" class=\"dataframe\">\n",
              "  <thead>\n",
              "    <tr style=\"text-align: right;\">\n",
              "      <th></th>\n",
              "      <th>age</th>\n",
              "      <th>workclass</th>\n",
              "      <th>fnlwgt</th>\n",
              "      <th>education</th>\n",
              "      <th>education-num</th>\n",
              "      <th>marital-status</th>\n",
              "      <th>occupation</th>\n",
              "      <th>relationship</th>\n",
              "      <th>race</th>\n",
              "      <th>sex</th>\n",
              "      <th>capital-gain</th>\n",
              "      <th>capital-loss</th>\n",
              "      <th>hours-per-week</th>\n",
              "      <th>native-country</th>\n",
              "      <th>salary</th>\n",
              "    </tr>\n",
              "  </thead>\n",
              "  <tbody>\n",
              "    <tr>\n",
              "      <th>0</th>\n",
              "      <td>39</td>\n",
              "      <td>State-gov</td>\n",
              "      <td>77516</td>\n",
              "      <td>Bachelors</td>\n",
              "      <td>13</td>\n",
              "      <td>Never-married</td>\n",
              "      <td>Adm-clerical</td>\n",
              "      <td>Not-in-family</td>\n",
              "      <td>White</td>\n",
              "      <td>Male</td>\n",
              "      <td>2174</td>\n",
              "      <td>0</td>\n",
              "      <td>40</td>\n",
              "      <td>United-States</td>\n",
              "      <td>&lt;=50K</td>\n",
              "    </tr>\n",
              "    <tr>\n",
              "      <th>1</th>\n",
              "      <td>50</td>\n",
              "      <td>Self-emp-not-inc</td>\n",
              "      <td>83311</td>\n",
              "      <td>Bachelors</td>\n",
              "      <td>13</td>\n",
              "      <td>Married-civ-spouse</td>\n",
              "      <td>Exec-managerial</td>\n",
              "      <td>Husband</td>\n",
              "      <td>White</td>\n",
              "      <td>Male</td>\n",
              "      <td>0</td>\n",
              "      <td>0</td>\n",
              "      <td>13</td>\n",
              "      <td>United-States</td>\n",
              "      <td>&lt;=50K</td>\n",
              "    </tr>\n",
              "    <tr>\n",
              "      <th>2</th>\n",
              "      <td>38</td>\n",
              "      <td>Private</td>\n",
              "      <td>215646</td>\n",
              "      <td>HS-grad</td>\n",
              "      <td>9</td>\n",
              "      <td>Divorced</td>\n",
              "      <td>Handlers-cleaners</td>\n",
              "      <td>Not-in-family</td>\n",
              "      <td>White</td>\n",
              "      <td>Male</td>\n",
              "      <td>0</td>\n",
              "      <td>0</td>\n",
              "      <td>40</td>\n",
              "      <td>United-States</td>\n",
              "      <td>&lt;=50K</td>\n",
              "    </tr>\n",
              "    <tr>\n",
              "      <th>3</th>\n",
              "      <td>53</td>\n",
              "      <td>Private</td>\n",
              "      <td>234721</td>\n",
              "      <td>11th</td>\n",
              "      <td>7</td>\n",
              "      <td>Married-civ-spouse</td>\n",
              "      <td>Handlers-cleaners</td>\n",
              "      <td>Husband</td>\n",
              "      <td>Black</td>\n",
              "      <td>Male</td>\n",
              "      <td>0</td>\n",
              "      <td>0</td>\n",
              "      <td>40</td>\n",
              "      <td>United-States</td>\n",
              "      <td>&lt;=50K</td>\n",
              "    </tr>\n",
              "    <tr>\n",
              "      <th>4</th>\n",
              "      <td>28</td>\n",
              "      <td>Private</td>\n",
              "      <td>338409</td>\n",
              "      <td>Bachelors</td>\n",
              "      <td>13</td>\n",
              "      <td>Married-civ-spouse</td>\n",
              "      <td>Prof-specialty</td>\n",
              "      <td>Wife</td>\n",
              "      <td>Black</td>\n",
              "      <td>Female</td>\n",
              "      <td>0</td>\n",
              "      <td>0</td>\n",
              "      <td>40</td>\n",
              "      <td>Cuba</td>\n",
              "      <td>&lt;=50K</td>\n",
              "    </tr>\n",
              "  </tbody>\n",
              "</table>\n",
              "</div>"
            ],
            "text/plain": [
              "   age         workclass  fnlwgt  ... hours-per-week  native-country salary\n",
              "0   39         State-gov   77516  ...             40   United-States  <=50K\n",
              "1   50  Self-emp-not-inc   83311  ...             13   United-States  <=50K\n",
              "2   38           Private  215646  ...             40   United-States  <=50K\n",
              "3   53           Private  234721  ...             40   United-States  <=50K\n",
              "4   28           Private  338409  ...             40            Cuba  <=50K\n",
              "\n",
              "[5 rows x 15 columns]"
            ]
          },
          "metadata": {},
          "execution_count": 3
        }
      ]
    },
    {
      "cell_type": "markdown",
      "metadata": {
        "id": "FNlpCRaNf-F1"
      },
      "source": [
        "First we need to figure out the shape of our dataset. Output result format as below. **(Number of raws, Number of columns)**"
      ]
    },
    {
      "cell_type": "code",
      "metadata": {
        "colab": {
          "base_uri": "https://localhost:8080/"
        },
        "id": "Ojozso338ddi",
        "outputId": "be2b9477-b626-4a4c-abda-8441e79de0ad"
      },
      "source": [
        "adult_data.shape"
      ],
      "execution_count": 4,
      "outputs": [
        {
          "output_type": "execute_result",
          "data": {
            "text/plain": [
              "(32561, 15)"
            ]
          },
          "metadata": {},
          "execution_count": 4
        }
      ]
    },
    {
      "cell_type": "markdown",
      "metadata": {
        "id": "NvH1KL7f8j2u"
      },
      "source": [
        "We can explore the dataset info as belows."
      ]
    },
    {
      "cell_type": "code",
      "metadata": {
        "colab": {
          "base_uri": "https://localhost:8080/"
        },
        "id": "Ya19G7tk9g1Y",
        "outputId": "9e5acefe-1648-45e0-9cf6-52010b19570f"
      },
      "source": [
        "adult_data.info()"
      ],
      "execution_count": 5,
      "outputs": [
        {
          "output_type": "stream",
          "name": "stdout",
          "text": [
            "<class 'pandas.core.frame.DataFrame'>\n",
            "RangeIndex: 32561 entries, 0 to 32560\n",
            "Data columns (total 15 columns):\n",
            " #   Column          Non-Null Count  Dtype \n",
            "---  ------          --------------  ----- \n",
            " 0   age             32561 non-null  int64 \n",
            " 1   workclass       32561 non-null  object\n",
            " 2   fnlwgt          32561 non-null  int64 \n",
            " 3   education       32561 non-null  object\n",
            " 4   education-num   32561 non-null  int64 \n",
            " 5   marital-status  32561 non-null  object\n",
            " 6   occupation      32561 non-null  object\n",
            " 7   relationship    32561 non-null  object\n",
            " 8   race            32561 non-null  object\n",
            " 9   sex             32561 non-null  object\n",
            " 10  capital-gain    32561 non-null  int64 \n",
            " 11  capital-loss    32561 non-null  int64 \n",
            " 12  hours-per-week  32561 non-null  int64 \n",
            " 13  native-country  32561 non-null  object\n",
            " 14  salary          32561 non-null  object\n",
            "dtypes: int64(6), object(9)\n",
            "memory usage: 3.7+ MB\n"
          ]
        }
      ]
    },
    {
      "cell_type": "markdown",
      "metadata": {
        "id": "BIFKofIj90Q7"
      },
      "source": [
        "### Analyze the data set."
      ]
    },
    {
      "cell_type": "markdown",
      "metadata": {
        "id": "jlcxgJ54-Eks"
      },
      "source": [
        "### Question 1:\n",
        "1. Let's figure out how many people of each race are represented in this dataset."
      ]
    },
    {
      "cell_type": "code",
      "metadata": {
        "colab": {
          "base_uri": "https://localhost:8080/"
        },
        "id": "I_1XLkmYAYaM",
        "outputId": "9b3f20ee-65fc-402f-d895-424a2a9c6fc1"
      },
      "source": [
        "adult_data.race.value_counts()"
      ],
      "execution_count": 6,
      "outputs": [
        {
          "output_type": "execute_result",
          "data": {
            "text/plain": [
              "White                 27816\n",
              "Black                  3124\n",
              "Asian-Pac-Islander     1039\n",
              "Amer-Indian-Eskimo      311\n",
              "Other                   271\n",
              "Name: race, dtype: int64"
            ]
          },
          "metadata": {},
          "execution_count": 6
        }
      ]
    },
    {
      "cell_type": "markdown",
      "metadata": {
        "id": "46kngv49I5xd"
      },
      "source": [
        "We can analyze the `sex` column to identify how many Males and Females are represented in this dataset."
      ]
    },
    {
      "cell_type": "code",
      "metadata": {
        "colab": {
          "base_uri": "https://localhost:8080/"
        },
        "id": "kw0TeOzhBwjq",
        "outputId": "362f9824-46f6-4c7a-de22-eaa2ff5c93a9"
      },
      "source": [
        "adult_data[\"sex\"].value_counts()"
      ],
      "execution_count": 7,
      "outputs": [
        {
          "output_type": "execute_result",
          "data": {
            "text/plain": [
              "Male      21790\n",
              "Female    10771\n",
              "Name: sex, dtype: int64"
            ]
          },
          "metadata": {},
          "execution_count": 7
        }
      ]
    },
    {
      "cell_type": "markdown",
      "metadata": {
        "id": "gxRH-crLJOf0"
      },
      "source": [
        "### Question 2:\n",
        "2. The average age of Men can be calculated as follows."
      ]
    },
    {
      "cell_type": "code",
      "metadata": {
        "colab": {
          "base_uri": "https://localhost:8080/"
        },
        "id": "QzKP2-98C9jP",
        "outputId": "33b47c0e-1e16-45ac-a89c-17c6a21a2c21"
      },
      "source": [
        "group = adult_data.groupby(['sex']).age.mean()\n",
        "average_age_men = round(group['Male'])\n",
        "average_age_men"
      ],
      "execution_count": 8,
      "outputs": [
        {
          "output_type": "execute_result",
          "data": {
            "text/plain": [
              "39"
            ]
          },
          "metadata": {},
          "execution_count": 8
        }
      ]
    },
    {
      "cell_type": "markdown",
      "metadata": {
        "id": "olQLFb2RNp5_"
      },
      "source": [
        "In below, we can see how many people of each education qualification are represented in this dataset."
      ]
    },
    {
      "cell_type": "code",
      "metadata": {
        "id": "XI0Hy1cmH371",
        "colab": {
          "base_uri": "https://localhost:8080/"
        },
        "outputId": "45c6cd46-4e66-4566-89c8-ce4b45bb0589"
      },
      "source": [
        "adult_data.education.value_counts()"
      ],
      "execution_count": 9,
      "outputs": [
        {
          "output_type": "execute_result",
          "data": {
            "text/plain": [
              "HS-grad         10501\n",
              "Some-college     7291\n",
              "Bachelors        5355\n",
              "Masters          1723\n",
              "Assoc-voc        1382\n",
              "11th             1175\n",
              "Assoc-acdm       1067\n",
              "10th              933\n",
              "7th-8th           646\n",
              "Prof-school       576\n",
              "9th               514\n",
              "12th              433\n",
              "Doctorate         413\n",
              "5th-6th           333\n",
              "1st-4th           168\n",
              "Preschool          51\n",
              "Name: education, dtype: int64"
            ]
          },
          "metadata": {},
          "execution_count": 9
        }
      ]
    },
    {
      "cell_type": "markdown",
      "metadata": {
        "id": "qW71QoSePKgU"
      },
      "source": [
        "### Question 3:\n",
        "3. Let's define the percentage of people who have a Bacherlor's degree."
      ]
    },
    {
      "cell_type": "markdown",
      "metadata": {
        "id": "g8tLkHqMaq46"
      },
      "source": [
        "a. Total number of people who have a Bacherlor's degree."
      ]
    },
    {
      "cell_type": "code",
      "metadata": {
        "id": "RGUEdKPMPfRP"
      },
      "source": [
        "bachelors = adult_data.education.value_counts()\n",
        "num = bachelors.loc[pd.Index(['Bachelors'])][0]"
      ],
      "execution_count": 10,
      "outputs": []
    },
    {
      "cell_type": "markdown",
      "metadata": {
        "id": "fTBYdXnla5j_"
      },
      "source": [
        "b. Total number of people."
      ]
    },
    {
      "cell_type": "code",
      "metadata": {
        "id": "29pMUI-7Z1P-"
      },
      "source": [
        "total = adult_data.shape[0]"
      ],
      "execution_count": 11,
      "outputs": []
    },
    {
      "cell_type": "markdown",
      "metadata": {
        "id": "Mvnvq9zzbF4-"
      },
      "source": [
        "c. Calculating the percentage of people who have a Bachelor's Degree."
      ]
    },
    {
      "cell_type": "code",
      "metadata": {
        "colab": {
          "base_uri": "https://localhost:8080/"
        },
        "id": "1aKAwLafaaNA",
        "outputId": "5d89342a-59b4-43af-d0a7-ca5306724c14"
      },
      "source": [
        "round(num/total *100, 1)"
      ],
      "execution_count": 12,
      "outputs": [
        {
          "output_type": "execute_result",
          "data": {
            "text/plain": [
              "16.4"
            ]
          },
          "metadata": {},
          "execution_count": 12
        }
      ]
    },
    {
      "cell_type": "markdown",
      "metadata": {
        "id": "aJvmzK64c63k"
      },
      "source": [
        "### Question 4 and 5:\n",
        "4. Finding the percentage of people with higher education (Bachelors, Masters, or Doctorate) make more than 50K\n",
        "5. Finding the percentage of people without higher education make more than 50K"
      ]
    },
    {
      "cell_type": "markdown",
      "metadata": {
        "id": "EX7I4Ey5CLDY"
      },
      "source": [
        "Let's find Total number of people who have higher education and total number of people who have lower education as follows."
      ]
    },
    {
      "cell_type": "code",
      "metadata": {
        "colab": {
          "base_uri": "https://localhost:8080/"
        },
        "id": "Z0HNmYtb3WLJ",
        "outputId": "6aad714c-fec8-4a7b-a886-40335b053cf1"
      },
      "source": [
        "education = ['Bachelors','Masters','Doctorate']\n",
        "\n",
        "higher_education = adult_data[adult_data['education'].isin(education)]\n",
        "lower_education = adult_data[~adult_data['education'].isin(education)]\n",
        "\n",
        "higher_education_total = higher_education.shape[0]\n",
        "lower_education_total = lower_education.shape[0]\n",
        "\n",
        "print(\"Total number of people who have higher education:\", higher_education_total)\n",
        "print(\"Total number of people who have lower education:\", lower_education_total)"
      ],
      "execution_count": 13,
      "outputs": [
        {
          "output_type": "stream",
          "name": "stdout",
          "text": [
            "Total number of people who have higher education: 7491\n",
            "Total number of people who have lower education: 25070\n"
          ]
        }
      ]
    },
    {
      "cell_type": "markdown",
      "metadata": {
        "id": "yhsTNUXm11Tm"
      },
      "source": [
        "We can find the number of people with higher education (Bachelors, Masters or Doctorate) make more than 50K and the number of people with lower education make more than 50K as follows."
      ]
    },
    {
      "cell_type": "code",
      "metadata": {
        "colab": {
          "base_uri": "https://localhost:8080/"
        },
        "id": "NtmpKJahDGmK",
        "outputId": "ab2a47bf-02ac-4b3c-b00f-64e09f455be9"
      },
      "source": [
        "higher_education_salary = higher_education[higher_education['salary']=='>50K'].shape[0]\n",
        "lower_education_salary = lower_education[lower_education['salary']=='>50K'].shape[0]\n",
        "\n",
        "print(\"Total number of people who earn more than 50K with higher education qualifications:\", higher_education_salary)\n",
        "print(\"Total number of people who earn more than 50K without higher education qualifications:\", lower_education_salary)"
      ],
      "execution_count": 14,
      "outputs": [
        {
          "output_type": "stream",
          "name": "stdout",
          "text": [
            "Total number of people who earn more than 50K with higher education qualifications: 3486\n",
            "Total number of people who earn more than 50K without higher education qualifications: 4355\n"
          ]
        }
      ]
    },
    {
      "cell_type": "markdown",
      "metadata": {
        "id": "EVBnRbRm2TQa"
      },
      "source": [
        "Percentage can be calculated as follows."
      ]
    },
    {
      "cell_type": "code",
      "metadata": {
        "colab": {
          "base_uri": "https://localhost:8080/"
        },
        "id": "H-DGrbca1nSV",
        "outputId": "d356035d-7d64-4a2e-d014-a5e5ce92e280"
      },
      "source": [
        "higher_education_rich = round((higher_education_salary / higher_education_total) * 100,1)\n",
        "lower_education_rich = round((lower_education_salary / lower_education_total) * 100, 1)\n",
        "\n",
        "print(\"Rich higher education percentage:\", higher_education_rich,\"%\")\n",
        "print(\"Rich lower education percentage:\", lower_education_rich,\"%\")"
      ],
      "execution_count": 15,
      "outputs": [
        {
          "output_type": "stream",
          "name": "stdout",
          "text": [
            "Rich higher education percentage: 46.5 %\n",
            "Rich lower education percentage: 17.4 %\n"
          ]
        }
      ]
    },
    {
      "cell_type": "markdown",
      "metadata": {
        "id": "7Bs8m5az5GHJ"
      },
      "source": [
        "We can find the number of people without advanced education make more than 50K as follows."
      ]
    },
    {
      "cell_type": "markdown",
      "metadata": {
        "id": "n-G7ATuRbwgv"
      },
      "source": [
        "### Question 6:\n",
        "6. Finding the minimum number of hours a person works per week."
      ]
    },
    {
      "cell_type": "code",
      "metadata": {
        "colab": {
          "base_uri": "https://localhost:8080/"
        },
        "id": "pl6lf7n_cDoJ",
        "outputId": "b4ba4e8d-d887-4dab-df57-69becb7a5da9"
      },
      "source": [
        "min_work_hours = adult_data['hours-per-week'].min()\n",
        "print(\"Minimum number of hours a person works per week:\", min_work_hours)"
      ],
      "execution_count": 16,
      "outputs": [
        {
          "output_type": "stream",
          "name": "stdout",
          "text": [
            "Minimum number of hours a person works per week: 1\n"
          ]
        }
      ]
    },
    {
      "cell_type": "markdown",
      "metadata": {
        "id": "0cWoqMAp5ppm"
      },
      "source": [
        "### Question 7:\n",
        "7. The percentage of the people who work the minimum number of hours per week have a salary of more than 50K"
      ]
    },
    {
      "cell_type": "markdown",
      "metadata": {
        "id": "PTm4z3zy86kJ"
      },
      "source": [
        "Let's find the number of people who work the minimum number of hours per week have a salary of more than 50K"
      ]
    },
    {
      "cell_type": "code",
      "metadata": {
        "id": "sgTCJnWX54oy"
      },
      "source": [
        "total_min_hour = adult_data[adult_data['hours-per-week']==min_work_hours].shape[0]\n",
        "min_hour_salary = adult_data[(adult_data['salary']=='>50K') & (adult_data['hours-per-week']==min_work_hours)]\n",
        "min_number = min_hour_salary.shape[0]"
      ],
      "execution_count": 19,
      "outputs": []
    },
    {
      "cell_type": "markdown",
      "metadata": {
        "id": "4up9vZd69iqI"
      },
      "source": [
        "Percentage can be calculated as follows."
      ]
    },
    {
      "cell_type": "code",
      "metadata": {
        "colab": {
          "base_uri": "https://localhost:8080/"
        },
        "id": "KZdjFuav9nAu",
        "outputId": "c92a5f85-4681-4a37-86c1-e02ffe61341c"
      },
      "source": [
        "print(\"The percentage of the number of people who work the minimum number of hours per week:\",(min_number/total_min_hour)*100,\"%\")"
      ],
      "execution_count": 31,
      "outputs": [
        {
          "output_type": "stream",
          "name": "stdout",
          "text": [
            "The percentage of the number of people who work the minimum number of hours per week: 10.0 %\n"
          ]
        }
      ]
    },
    {
      "cell_type": "markdown",
      "metadata": {
        "id": "n35VJg3J-BeZ"
      },
      "source": [
        "### Question 8:\n",
        "8. The country has the highest percentage of people that earn >50K and the percentage of it."
      ]
    },
    {
      "cell_type": "code",
      "metadata": {
        "id": "qoibRbsh-6qb"
      },
      "source": [
        "highest_salary = adult_data[(adult_data['salary']=='>50K')]\n",
        "earning_country_counts = highest_salary['native-country'].value_counts()\n",
        "country_counts = adult_data['native-country'].value_counts()\n",
        "earning_percentage = earning_country_counts/country_counts * 100\n",
        "highest_earning_country = earning_percentage.idxmax()\n",
        "highest_earning_country_percentage = round(earning_percentage.max(),1)"
      ],
      "execution_count": 23,
      "outputs": []
    },
    {
      "cell_type": "code",
      "metadata": {
        "colab": {
          "base_uri": "https://localhost:8080/"
        },
        "id": "0KQTIO-uMa9b",
        "outputId": "d1f727ad-2ec1-4441-f12e-e8ab46f18615"
      },
      "source": [
        "earning_percentage"
      ],
      "execution_count": 33,
      "outputs": [
        {
          "output_type": "execute_result",
          "data": {
            "text/plain": [
              "?                             25.042882\n",
              "Cambodia                      36.842105\n",
              "Canada                        32.231405\n",
              "China                         26.666667\n",
              "Columbia                       3.389831\n",
              "Cuba                          26.315789\n",
              "Dominican-Republic             2.857143\n",
              "Ecuador                       14.285714\n",
              "El-Salvador                    8.490566\n",
              "England                       33.333333\n",
              "France                        41.379310\n",
              "Germany                       32.116788\n",
              "Greece                        27.586207\n",
              "Guatemala                      4.687500\n",
              "Haiti                          9.090909\n",
              "Holand-Netherlands                  NaN\n",
              "Honduras                       7.692308\n",
              "Hong                          30.000000\n",
              "Hungary                       23.076923\n",
              "India                         40.000000\n",
              "Iran                          41.860465\n",
              "Ireland                       20.833333\n",
              "Italy                         34.246575\n",
              "Jamaica                       12.345679\n",
              "Japan                         38.709677\n",
              "Laos                          11.111111\n",
              "Mexico                         5.132193\n",
              "Nicaragua                      5.882353\n",
              "Outlying-US(Guam-USVI-etc)          NaN\n",
              "Peru                           6.451613\n",
              "Philippines                   30.808081\n",
              "Poland                        20.000000\n",
              "Portugal                      10.810811\n",
              "Puerto-Rico                   10.526316\n",
              "Scotland                      25.000000\n",
              "South                         20.000000\n",
              "Taiwan                        39.215686\n",
              "Thailand                      16.666667\n",
              "Trinadad&Tobago               10.526316\n",
              "United-States                 24.583476\n",
              "Vietnam                        7.462687\n",
              "Yugoslavia                    37.500000\n",
              "Name: native-country, dtype: float64"
            ]
          },
          "metadata": {},
          "execution_count": 33
        }
      ]
    },
    {
      "cell_type": "code",
      "metadata": {
        "colab": {
          "base_uri": "https://localhost:8080/"
        },
        "id": "xr1DYAijMx9S",
        "outputId": "f2be7dd0-f5d0-49c3-8008-28c71ba31235"
      },
      "source": [
        "print(\"The country has the highest percentage of people that earn >50K: \",highest_earning_country)"
      ],
      "execution_count": 28,
      "outputs": [
        {
          "output_type": "stream",
          "name": "stdout",
          "text": [
            "The country has the highest percentage of people that earn >50K:  Iran\n"
          ]
        }
      ]
    },
    {
      "cell_type": "code",
      "metadata": {
        "colab": {
          "base_uri": "https://localhost:8080/"
        },
        "id": "CvhT_7ImM1iY",
        "outputId": "c2ed58d2-9e34-4bb6-be92-fdc825f0b2c5"
      },
      "source": [
        "print(\"Percentage: \",highest_earning_country_percentage)"
      ],
      "execution_count": 29,
      "outputs": [
        {
          "output_type": "stream",
          "name": "stdout",
          "text": [
            "Percentage:  41.9\n"
          ]
        }
      ]
    },
    {
      "cell_type": "markdown",
      "metadata": {
        "id": "vrBCkTo5B4ZD"
      },
      "source": [
        "### Question 9:\n",
        "9. The most popular occupation for those who earn >50K in India."
      ]
    },
    {
      "cell_type": "code",
      "metadata": {
        "colab": {
          "base_uri": "https://localhost:8080/",
          "height": 35
        },
        "id": "YxRchN0xB-j-",
        "outputId": "fe9b7791-dd08-40d1-d911-43fd25562988"
      },
      "source": [
        "popular_occu = adult_data[(adult_data['salary']=='>50K') & (adult_data['native-country']=='India')]['occupation'].value_counts()\n",
        "popular_occu.idxmax()"
      ],
      "execution_count": 36,
      "outputs": [
        {
          "output_type": "execute_result",
          "data": {
            "application/vnd.google.colaboratory.intrinsic+json": {
              "type": "string"
            },
            "text/plain": [
              "'Prof-specialty'"
            ]
          },
          "metadata": {},
          "execution_count": 36
        }
      ]
    }
  ]
}
